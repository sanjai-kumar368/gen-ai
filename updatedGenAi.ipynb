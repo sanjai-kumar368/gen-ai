{
  "nbformat": 4,
  "nbformat_minor": 0,
  "metadata": {
    "colab": {
      "provenance": [],
      "gpuType": "T4",
      "authorship_tag": "ABX9TyOtn/R0IM2q+07VAQmXnxOu",
      "include_colab_link": true
    },
    "kernelspec": {
      "name": "python3",
      "display_name": "Python 3"
    },
    "language_info": {
      "name": "python"
    },
    "accelerator": "GPU"
  },
  "cells": [
    {
      "cell_type": "markdown",
      "metadata": {
        "id": "view-in-github",
        "colab_type": "text"
      },
      "source": [
        "<a href=\"https://colab.research.google.com/github/sanjai-kumar368/gen-ai/blob/main/updatedGenAi.ipynb\" target=\"_parent\"><img src=\"https://colab.research.google.com/assets/colab-badge.svg\" alt=\"Open In Colab\"/></a>"
      ]
    },
    {
      "cell_type": "code",
      "source": [
        "!pip install transformers accelerate -q\n",
        "\n",
        "from transformers import AutoTokenizer, AutoModelForSeq2SeqLM\n",
        "import torch\n",
        "\n",
        "# Set device\n",
        "device = torch.device(\"cuda\" if torch.cuda.is_available() else \"cpu\")\n",
        "print(\"Using device:\", device)\n",
        "\n",
        
        "model_name = \"google/flan-t5-large\"\n",
        "tokenizer = AutoTokenizer.from_pretrained(model_name)\n",
        "model = AutoModelForSeq2SeqLM.from_pretrained(model_name).to(device)\n",
        "\n",
        "# Welcome message\n",
        "print(\"\\nModel ready. Type 'exit' to quit.\\n\")\n",
        "\n",
        "# Infinite loop for interaction\n",
        "while True:\n",
        "    topic = input(\"Enter a topic to elaborate: \")\n",
        "    if topic.lower().strip() == \"exit\":\n",
        "        break\n",
        "\n",
        "    prompt = (\n",
        "        f\"Elaborate in simple and clear terms what '{topic}' is. \"\n",
        "        \"Give at least 4 detailed sentences that explain the topic thoroughly.\"\n",
        "    )\n",
        "\n",
        "    inputs = tokenizer(prompt, return_tensors=\"pt\").to(device)\n",
        "\n",
        "    output = model.generate(\n",
        "        **inputs,\n",
        "        max_new_tokens=400,\n",
        "        temperature=0.9,\n",
        "        top_p=0.95,\n",
        "        top_k=50,\n",
        "        repetition_penalty=1.2,\n",
        "        do_sample=True,\n",
        "        num_return_sequences=1,\n",
        "    )\n",
        "\n",
        "    result = tokenizer.decode(output[0], skip_special_tokens=True).strip()\n",
        "\n",
        "   
        "    retry_count = 0\n",
        "    while (not result.strip() or len(result.split()) < 20) and retry_count < 3:\n",
        "        output = model.generate(\n",
        "            **inputs,\n",
        "            max_new_tokens=400,\n",
        "            temperature=0.95,\n",
        "            top_p=0.9,\n",
        "            repetition_penalty=1.2,\n",
        "            do_sample=True\n",
        "        )\n",
        "        result = tokenizer.decode(output[0], skip_special_tokens=True).strip()\n",
        "        retry_count += 1\n",
        "\n",
        "    print(\"\\nElaboration:\\n\", result)\n",
        "    print(\"-\" * 80)\n",
        "\n",
        "\n"
      ],
      "metadata": {
        "colab": {
          "base_uri": "https://localhost:8080/"
        },
        "id": "DOnZ9pIrPMC-",
        "outputId": "9a506651-734e-4b67-be5e-7a63b62fed5e"
      },
      "execution_count": null,
      "outputs": [
        {
          "output_type": "stream",
          "name": "stdout",
          "text": [
            "Using device: cuda\n",
            "\n",
            "Model ready. Type 'exit' to quit.\n",
            "\n",
            "Enter a topic to elaborate: newtons law\n",
            "\n",
            "Elaboration:\n",
            " The 'newtons law ' is a theory of motion that states that the forces acting on matter are proportional to the forces acting on the medium and the motion of the objects with respect to that medium.\n",
            "--------------------------------------------------------------------------------\n",
            "Enter a topic to elaborate: cars\n",
            "\n",
            "Elaboration:\n",
            " The term cars was originally used to describe any vehicle or system of vehicles , including motor vehicles , locomotives , trains , busses and railways .\n",
            "--------------------------------------------------------------------------------\n"
          ]
        }
      ]
    },
    {
      "cell_type": "code",
      "source": [],
      "metadata": {
        "id": "Jl_0TOPvPN7z"
      },
      "execution_count": null,
      "outputs": []
    }
  ]
}
